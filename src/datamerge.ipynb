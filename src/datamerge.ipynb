{
 "cells": [
  {
   "metadata": {
    "ExecuteTime": {
     "end_time": "2024-08-20T13:39:01.805851Z",
     "start_time": "2024-08-20T13:39:01.796578Z"
    }
   },
   "cell_type": "code",
   "source": [
    "\n",
    "from pathlib import Path\n",
    "import pandas as pd\n",
    "\n",
    "datapath = Path(\"..\") / \"datasets\" / \"lifesat\"\n",
    "lifesat = pd.read_csv(datapath / \"lifesat.csv\")\n",
    "\n"
   ],
   "id": "925be27404df3340",
   "outputs": [],
   "execution_count": 137
  },
  {
   "cell_type": "code",
   "id": "initial_id",
   "metadata": {
    "collapsed": true,
    "ExecuteTime": {
     "end_time": "2024-08-20T13:39:01.852004Z",
     "start_time": "2024-08-20T13:39:01.834471Z"
    }
   },
   "source": [
    "gdp_year = 2020\n",
    "gdppc_col = \"GDP per capita (USD)\"\n",
    "\n",
    "gdp_per_capita = pd.read_csv(datapath / \"gdp_per_capita.csv\")\n",
    "gdp_per_capita = gdp_per_capita[gdp_per_capita[\"Year\"] == gdp_year]\n",
    "gdp_per_capita = gdp_per_capita.drop([\"Code\" ], axis=1)\n",
    "gdp_per_capita.columns = [\"Country\",\"Year\", gdppc_col]\n",
    "gdp_per_capita.set_index(\"Country\", inplace=True)\n",
    "\n",
    "\n",
    "gdp_per_capita.head()\n",
    "# gdp_per_capita[[\"Year\",gdppc_col]].loc[\"Cyprus\"]"
   ],
   "outputs": [
    {
     "data": {
      "text/plain": [
       "                             Year  GDP per capita (USD)\n",
       "Country                                                \n",
       "Afghanistan                  2020           1978.961579\n",
       "Africa Eastern and Southern  2020           3387.594670\n",
       "Africa Western and Central   2020           4003.158913\n",
       "Albania                      2020          13295.410885\n",
       "Algeria                      2020          10681.679297"
      ],
      "text/html": [
       "<div>\n",
       "<style scoped>\n",
       "    .dataframe tbody tr th:only-of-type {\n",
       "        vertical-align: middle;\n",
       "    }\n",
       "\n",
       "    .dataframe tbody tr th {\n",
       "        vertical-align: top;\n",
       "    }\n",
       "\n",
       "    .dataframe thead th {\n",
       "        text-align: right;\n",
       "    }\n",
       "</style>\n",
       "<table border=\"1\" class=\"dataframe\">\n",
       "  <thead>\n",
       "    <tr style=\"text-align: right;\">\n",
       "      <th></th>\n",
       "      <th>Year</th>\n",
       "      <th>GDP per capita (USD)</th>\n",
       "    </tr>\n",
       "    <tr>\n",
       "      <th>Country</th>\n",
       "      <th></th>\n",
       "      <th></th>\n",
       "    </tr>\n",
       "  </thead>\n",
       "  <tbody>\n",
       "    <tr>\n",
       "      <th>Afghanistan</th>\n",
       "      <td>2020</td>\n",
       "      <td>1978.961579</td>\n",
       "    </tr>\n",
       "    <tr>\n",
       "      <th>Africa Eastern and Southern</th>\n",
       "      <td>2020</td>\n",
       "      <td>3387.594670</td>\n",
       "    </tr>\n",
       "    <tr>\n",
       "      <th>Africa Western and Central</th>\n",
       "      <td>2020</td>\n",
       "      <td>4003.158913</td>\n",
       "    </tr>\n",
       "    <tr>\n",
       "      <th>Albania</th>\n",
       "      <td>2020</td>\n",
       "      <td>13295.410885</td>\n",
       "    </tr>\n",
       "    <tr>\n",
       "      <th>Algeria</th>\n",
       "      <td>2020</td>\n",
       "      <td>10681.679297</td>\n",
       "    </tr>\n",
       "  </tbody>\n",
       "</table>\n",
       "</div>"
      ]
     },
     "execution_count": 138,
     "metadata": {},
     "output_type": "execute_result"
    }
   ],
   "execution_count": 138
  },
  {
   "metadata": {
    "ExecuteTime": {
     "end_time": "2024-08-20T13:39:01.942995Z",
     "start_time": "2024-08-20T13:39:01.932861Z"
    }
   },
   "cell_type": "code",
   "source": "",
   "id": "5e497d072b1ea3a7",
   "outputs": [],
   "execution_count": null
  },
  {
   "metadata": {
    "ExecuteTime": {
     "end_time": "2024-08-20T13:39:01.983936Z",
     "start_time": "2024-08-20T13:39:01.982096Z"
    }
   },
   "cell_type": "code",
   "source": "",
   "id": "2a53741ce083f2f6",
   "outputs": [],
   "execution_count": null
  },
  {
   "metadata": {
    "ExecuteTime": {
     "end_time": "2024-08-20T13:39:02.057125Z",
     "start_time": "2024-08-20T13:39:02.042958Z"
    }
   },
   "cell_type": "code",
   "source": [
    "\n",
    "oecd_bli = pd.read_csv(datapath / \"oecd_bli.csv\")\n",
    "oecd_bli = oecd_bli[oecd_bli[\"INEQUALITY\"] == \"TOT\"]\n",
    "oecd_bli = oecd_bli.pivot(index=\"Country\", columns=\"Indicator\", values=\"Value\" )\n",
    "\n",
    "lifesat_col = \"Life satisfaction\"\n",
    "oecd_bli = oecd_bli[[lifesat_col]]\n",
    "oecd_bli.tail(20)\n",
    "# print(oecd_bli.loc(\"Cyprus\"))"
   ],
   "id": "919e62342f4e0f83",
   "outputs": [
    {
     "data": {
      "text/plain": [
       "Indicator        Life satisfaction\n",
       "Country                           \n",
       "Latvia                         5.9\n",
       "Lithuania                      5.9\n",
       "Luxembourg                     6.9\n",
       "Mexico                         6.5\n",
       "Netherlands                    7.4\n",
       "New Zealand                    7.3\n",
       "Norway                         7.6\n",
       "OECD - Total                   6.5\n",
       "Poland                         6.1\n",
       "Portugal                       5.4\n",
       "Russia                         5.8\n",
       "Slovak Republic                6.2\n",
       "Slovenia                       5.9\n",
       "South Africa                   4.7\n",
       "Spain                          6.3\n",
       "Sweden                         7.3\n",
       "Switzerland                    7.5\n",
       "Turkey                         5.5\n",
       "United Kingdom                 6.8\n",
       "United States                  6.9"
      ],
      "text/html": [
       "<div>\n",
       "<style scoped>\n",
       "    .dataframe tbody tr th:only-of-type {\n",
       "        vertical-align: middle;\n",
       "    }\n",
       "\n",
       "    .dataframe tbody tr th {\n",
       "        vertical-align: top;\n",
       "    }\n",
       "\n",
       "    .dataframe thead th {\n",
       "        text-align: right;\n",
       "    }\n",
       "</style>\n",
       "<table border=\"1\" class=\"dataframe\">\n",
       "  <thead>\n",
       "    <tr style=\"text-align: right;\">\n",
       "      <th>Indicator</th>\n",
       "      <th>Life satisfaction</th>\n",
       "    </tr>\n",
       "    <tr>\n",
       "      <th>Country</th>\n",
       "      <th></th>\n",
       "    </tr>\n",
       "  </thead>\n",
       "  <tbody>\n",
       "    <tr>\n",
       "      <th>Latvia</th>\n",
       "      <td>5.9</td>\n",
       "    </tr>\n",
       "    <tr>\n",
       "      <th>Lithuania</th>\n",
       "      <td>5.9</td>\n",
       "    </tr>\n",
       "    <tr>\n",
       "      <th>Luxembourg</th>\n",
       "      <td>6.9</td>\n",
       "    </tr>\n",
       "    <tr>\n",
       "      <th>Mexico</th>\n",
       "      <td>6.5</td>\n",
       "    </tr>\n",
       "    <tr>\n",
       "      <th>Netherlands</th>\n",
       "      <td>7.4</td>\n",
       "    </tr>\n",
       "    <tr>\n",
       "      <th>New Zealand</th>\n",
       "      <td>7.3</td>\n",
       "    </tr>\n",
       "    <tr>\n",
       "      <th>Norway</th>\n",
       "      <td>7.6</td>\n",
       "    </tr>\n",
       "    <tr>\n",
       "      <th>OECD - Total</th>\n",
       "      <td>6.5</td>\n",
       "    </tr>\n",
       "    <tr>\n",
       "      <th>Poland</th>\n",
       "      <td>6.1</td>\n",
       "    </tr>\n",
       "    <tr>\n",
       "      <th>Portugal</th>\n",
       "      <td>5.4</td>\n",
       "    </tr>\n",
       "    <tr>\n",
       "      <th>Russia</th>\n",
       "      <td>5.8</td>\n",
       "    </tr>\n",
       "    <tr>\n",
       "      <th>Slovak Republic</th>\n",
       "      <td>6.2</td>\n",
       "    </tr>\n",
       "    <tr>\n",
       "      <th>Slovenia</th>\n",
       "      <td>5.9</td>\n",
       "    </tr>\n",
       "    <tr>\n",
       "      <th>South Africa</th>\n",
       "      <td>4.7</td>\n",
       "    </tr>\n",
       "    <tr>\n",
       "      <th>Spain</th>\n",
       "      <td>6.3</td>\n",
       "    </tr>\n",
       "    <tr>\n",
       "      <th>Sweden</th>\n",
       "      <td>7.3</td>\n",
       "    </tr>\n",
       "    <tr>\n",
       "      <th>Switzerland</th>\n",
       "      <td>7.5</td>\n",
       "    </tr>\n",
       "    <tr>\n",
       "      <th>Turkey</th>\n",
       "      <td>5.5</td>\n",
       "    </tr>\n",
       "    <tr>\n",
       "      <th>United Kingdom</th>\n",
       "      <td>6.8</td>\n",
       "    </tr>\n",
       "    <tr>\n",
       "      <th>United States</th>\n",
       "      <td>6.9</td>\n",
       "    </tr>\n",
       "  </tbody>\n",
       "</table>\n",
       "</div>"
      ]
     },
     "execution_count": 139,
     "metadata": {},
     "output_type": "execute_result"
    }
   ],
   "execution_count": 139
  },
  {
   "metadata": {
    "ExecuteTime": {
     "end_time": "2024-08-20T13:39:02.122604Z",
     "start_time": "2024-08-20T13:39:02.104501Z"
    }
   },
   "cell_type": "code",
   "source": [
    "lifesat_col = \"Life satisfaction\"\n",
    "country_stats = pd.merge(left=oecd_bli, right=gdp_per_capita,\n",
    "                              left_index=True, right_index=True)\n",
    "country_stats.sort_values(by=gdppc_col, inplace=True)\n",
    "country_stats = country_stats[[gdppc_col, lifesat_col]]\n",
    "\n",
    "country_stats.to_csv(datapath / \"country_stats.csv\")\n"
   ],
   "id": "7f086a29ab8371de",
   "outputs": [],
   "execution_count": 140
  },
  {
   "metadata": {
    "ExecuteTime": {
     "end_time": "2024-08-20T13:42:27.608095Z",
     "start_time": "2024-08-20T13:42:27.420101Z"
    }
   },
   "cell_type": "code",
   "source": [
    "min_gdp = 23_500\n",
    "max_gdp = 62_500\n",
    "min_life_sat = 4\n",
    "max_life_sat = 9\n",
    "\n",
    "import matplotlib.pyplot as plt\n",
    "import numpy as np\n",
    "\n",
    "country_stats = country_stats[(country_stats[gdppc_col] >= min_gdp) &\n",
    "                                   (country_stats[gdppc_col] <= max_gdp)]\n",
    "country_stats.plot(kind='scatter', figsize=(8, 4), grid=True,\n",
    "                   x=gdppc_col, y=lifesat_col )\n",
    "plt.axis([min_gdp, max_gdp, min_life_sat, max_life_sat])\n",
    "\n",
    "\n",
    "def render_country_name():\n",
    "    for idx,row in country_stats.iterrows():\n",
    "        pos_data_x = row[gdppc_col]\n",
    "        pos_data_y = row[lifesat_col]\n",
    "        pos_text = (pos_data_x - 1000, pos_data_y - 1)\n",
    "        plt.annotate(idx, xy=(pos_data_x, pos_data_y),\n",
    "                     xytext=pos_text, fontsize=10,\n",
    "                     arrowprops=dict(facecolor='black', width=0.5,\n",
    "                                     shrink=0.08, headwidth=2))\n",
    "        plt.plot(pos_data_x, pos_data_y, \"rx\")\n",
    "\n",
    "\n",
    "X = np.linspace(min_gdp, max_gdp, 1000)\n",
    "\n",
    "w1, w2 = 4.2, 0\n",
    "plt.plot(X, w1 + w2 * 1e-5 * X, \"r\")\n",
    "plt.text(40_000, 4.9, fr\"$\\theta_0 = {w1}$\", color=\"r\")\n",
    "plt.text(40_000, 4.4, fr\"$\\theta_1 = {w2}$\", color=\"r\")\n",
    "       \n",
    "plt.show()"
   ],
   "id": "90c2ea2e003df61d",
   "outputs": [
    {
     "data": {
      "text/plain": [
       "<Figure size 800x400 with 1 Axes>"
      ],
      "image/png": "[encoded data removed]"
     },
     "metadata": {},
     "output_type": "display_data"
    }
   ],
   "execution_count": 144
  },
  {
   "metadata": {
    "ExecuteTime": {
     "end_time": "2024-08-20T13:39:02.478112Z",
     "start_time": "2024-08-20T13:39:02.472118Z"
    }
   },
   "cell_type": "code",
   "source": "",
   "id": "133d3ee2e0ad5203",
   "outputs": [],
   "execution_count": null
  }
 ],
 "metadata": {
  "kernelspec": {
   "display_name": "Python 3",
   "language": "python",
   "name": "python3"
  },
  "language_info": {
   "codemirror_mode": {
    "name": "ipython",
    "version": 2
   },
   "file_extension": ".py",
   "mimetype": "text/x-python",
   "name": "python",
   "nbconvert_exporter": "python",
   "pygments_lexer": "ipython2",
   "version": "2.7.6"
  }
 },
 "nbformat": 4,
 "nbformat_minor": 5
}
